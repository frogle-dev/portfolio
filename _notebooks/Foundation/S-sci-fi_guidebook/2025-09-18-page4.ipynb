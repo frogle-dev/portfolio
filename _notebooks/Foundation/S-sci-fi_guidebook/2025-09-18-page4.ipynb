{
 "cells": [
  {
   "cell_type": "markdown",
   "id": "4810fd91",
   "metadata": {
    "vscode": {
     "languageId": "plaintext"
    }
   },
   "source": [
    "---\n",
    "layout: post\n",
    "data: tools\n",
    "title: Sci-Fi Guidebook Page 4\n",
    "description: Page 4 of Guidebook\n",
    "permalink: /sci-fi/page4\n",
    "---"
   ]
  },
  {
   "cell_type": "markdown",
   "id": "4a5b8fba",
   "metadata": {},
   "source": [
    "<style>\n",
    "\tbody {\n",
    "\t\tbackground-image: url('{{site.baseurl}}/images/tools/sci-fi-tool/simplistic_background.gif');\n",
    "\t\tbackground-repeat: no-repeat;\n",
    "\t\tbackground-attachment: fixed;\n",
    "\t\tbackground-size: 100% 100%;\n",
    "\t}\n",
    "</style>\n",
    "\n",
    "<h2 style=\"color: black !important;\">Link to all Game Blogs </h2>\n",
    "\n",
    "<b>Note: All blogs have links to their respective games</b>\n",
    "\n",
    "<button type=\"button\" onclick=\"window.location.href='{{site.baseurl}}/blog/pong';\" style=\"border: 4px solid red; background-color: #21eb46ff; padding: 15px 30px; cursor:pointer;\">\n",
    "Pong Blog\n",
    "</button><br/><br/>\n",
    "<button type=\"button\" onclick=\"window.location.href='{{site.baseurl}}/blog/snake';\" style=\"border: 4px solid blue; background-color: #fbff00ff; padding: 15px 30px; cursor:pointer;\">\n",
    "Snake Blog\n",
    "</button><br/><br/>\n",
    "<button type=\"button\" onclick=\"window.location.href='{{site.baseurl}}/blog/rps';\" style=\"border: 4px solid orange; background-color: #3cb7ebff; padding: 15px 30px; cursor:pointer;\">\n",
    "Rock Paper Scissors Blog\n",
    "</button><br/><br/>\n",
    "<button type=\"button\" onclick=\"window.location.href='{{site.baseurl}}/blog/cookie-clicker-game-docs';\" style=\"border: 4px solid yellow; background-color: #e60dd0ff; padding: 15px 30px; cursor:pointer;\">\n",
    "Cookie Clicker Blog\n",
    "</button>\n",
    "\n",
    "<button type=\"button\" onclick=\"window.location.href='{{site.baseurl}}/sci-fi/page3';\" style=\"border: 4px solid orange; background-color: #007bff; padding: 15px 30px; cursor:pointer;\">\n",
    "Previous Page\n",
    "</button><br/><br/>"
   ]
  }
 ],
 "metadata": {
  "language_info": {
   "name": "python"
  }
 },
 "nbformat": 4,
 "nbformat_minor": 5
}
