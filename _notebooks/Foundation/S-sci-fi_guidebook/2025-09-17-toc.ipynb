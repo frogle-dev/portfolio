{
 "cells": [
  {
   "cell_type": "code",
   "execution_count": null,
   "id": "c46ec94b",
   "metadata": {
    "vscode": {
     "languageId": "yaml"
    }
   },
   "outputs": [],
   "source": [
    "---\n",
    "layout: post\n",
    "data: tools\n",
    "title: Sci-Fi Guidebook Table of Contents\n",
    "description: Table of Contents for Guidebook\n",
    "permalink: /sci-fi/toc\n",
    "---"
   ]
  },
  {
   "cell_type": "markdown",
   "id": "3ee391ff",
   "metadata": {},
   "source": [
    "<style>\n",
    "\tbody {\n",
    "\t\tbackground-image: url('{{site.baseurl}}/images/tools/sci-fi-tool/simplistic_background.gif');\n",
    "\t\tbackground-repeat: no-repeat;\n",
    "\t\tbackground-attachment: fixed;\n",
    "\t\tbackground-size: 100% 100%;\n",
    "\t}\n",
    "</style>\n",
    "\n",
    "- <a href=\"{{site.baseurl}}/sci-fi/page1\">Chapter 1 - Terminal</a>\n",
    "- [Chapter 2 - Make]({{site.baseurl}}/sci-fi/page2)\n",
    "- [Chapter 3 - Deploy]({{site.baseurl}}/sci-fi/page3)\n",
    "- <a href=\"{{site.baseurl}}/sci-fi/page4\">Chapter 4 - Games</a>\n",
    "\n",
    "<button type=\"button\" onclick=\"window.location.href='{{site.baseurl}}/tools/scifi_tools';\" style =\"cursor:pointer;\">\n",
    "<img src=\"{{site.baseurl}}/images/tools/black_button.png\" alt=\"close book button\" width=\"100\" height=\"auto\"/>\n",
    "Close book\n",
    "</button>\n",
    "\n"
   ]
  }
 ],
 "metadata": {
  "language_info": {
   "name": "python"
  }
 },
 "nbformat": 4,
 "nbformat_minor": 5
}
