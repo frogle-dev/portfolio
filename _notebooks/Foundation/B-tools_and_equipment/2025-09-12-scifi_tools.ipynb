{
 "cells": [
  {
   "cell_type": "code",
   "execution_count": null,
   "id": "3903bb00",
   "metadata": {
    "vscode": {
     "languageId": "yaml"
    }
   },
   "outputs": [],
   "source": [
    "---\n",
    "layout: post\n",
    "data: tools\n",
    "title: Sci-Fi Guidebook\n",
    "description: Interactive guidebook for terminal commands\n",
    "permalink: /tools/scifi_tools\n",
    "---"
   ]
  },
  {
   "cell_type": "markdown",
   "id": "51bec348",
   "metadata": {
    "vscode": {
     "languageId": "html"
    }
   },
   "source": [
    "# Sci-Fi Guidebook\t\n",
    "\n",
    "Click on the book to start your journey!\n",
    "\n",
    "<button type=\"button\" onclick=\"window.location.href='{{site.baseurl}}/sci-fi/toc';\" style=\"border:none; background:none; padding:0; cursor:pointer;\">\n",
    "  <img src=\"{{site.baseurl}}/images/tools/book.png\" alt=\"Book Image\" width=\"300\" height=\"auto\" />\n",
    "</button>"
   ]
  }
 ],
 "metadata": {
  "language_info": {
   "name": "python"
  }
 },
 "nbformat": 4,
 "nbformat_minor": 5
}
