{
 "cells": [
  {
   "cell_type": "code",
   "execution_count": null,
   "id": "d1ecf9e0",
   "metadata": {
    "vscode": {
     "languageId": "yaml"
    }
   },
   "outputs": [],
   "source": [
    "---\n",
    "layout: post\n",
    "title: Modifications to rock paper scissors\n",
    "description: This page outlines the modifications and additions we created for the rock paper scissors game hack\n",
    "categories: ['HTML', 'JavaScript']\n",
    "permalink: /blog/rps\n",
    "---"
   ]
  },
  {
   "cell_type": "markdown",
   "id": "8f76ec38",
   "metadata": {},
   "source": [
    "# Changes to rock paper scissors\n",
    "\n",
    "<a href=\"{{site.baseurl}}/rock-paper-scissor\" class=\"button small\" style=\"background-color: #31bb15ff\">\n",
    "    Rock Paper Scissors Game\n",
    "</a>\n",
    "\n",
    "## Different Commands\n",
    "\n",
    "The main thing we added to the rock paper scissors hack was different commands besides changing border, rotation, and width size.\n",
    "\n",
    "We did this by adding more CSS styles on top of the current ones. By using a current existing style, we could use that as a template for the new ones we made. <br/>\n",
    "Original\n",
    "```bash\n",
    "    setWidth(px) {\n",
    "      this.el.style.width = `${px}px`;\n",
    "      return this;\n",
    "    }\n",
    "```\n",
    "Template\n",
    "```bash\n",
    "    set()() {\n",
    "      this.el.style.() = ();\n",
    "      return this;\n",
    "    }\n",
    "```\n",
    "New\n",
    "```bash\n",
    "    setRadius(px) {\n",
    "      this.el.style.borderRadius = `${px}px`;\n",
    "      return this;\n",
    "    }\n",
    "```\n",
    "We also went to the [MDN Web Docs](https://developer.mozilla.org/en-US/docs/Web/CSS/Reference)\n",
    "to find different styles that we could use, such as Height, Opacity, and Drop shadow. With this, we were able to add new commands to play around with for the different GameObjects.\n",
    "\n",
    "---\n",
    "\n",
    "## Added buttons\n",
    "\n",
    "Next, we added buttons similar to the current ones to run different commands. In the instructionsHTML template string, we added new buttons for more convenience with the new commands, as having to type it in the console all the time can be time wasting.\n",
    "\n",
    "```\n",
    "<button id=\"btnResetAll\" style=\"padding:8px 12px; cursor:pointer;\">Reset All</button>\n",
    "```\n",
    "\n",
    "Let's break down each part of this button element.\n",
    "\n",
    "- <button (creates a clickable button on the page)\n",
    "- id=\"btnResetAll\" (creates an id for the button that can be reffered to in javascript)\n",
    "- style= (describes styles for the button element)\n",
    "- \"padding: 8px 12px; cursor:pointer;\" (shows size of the button and changes how cursor looks, indicating the button is clickable)\n",
    "- \\>Reset All\\<\\/button> (Ends the code for the button and adds a name)\n",
    "\n",
    "---\n",
    "\n",
    "## Button Effect\n",
    "\n",
    "Lastly, we used the EventListener to cause an \"event\" to occur when the button is pressed. The event, in this case is, resetting all previous commands used on either the rock, paper, or scissor.\n",
    "\n",
    "```\n",
    "  document.getElementById(\"btnResetAll\").addEventListener(\"click\", () => {\n",
    "    rock.reset();\n",
    "    paper.reset();\n",
    "    scissors.reset();\n",
    "  });\n",
    "```\n",
    "Let's break down this piece of code as well.\n",
    " - document.getElementById(\"btnResetAll\") (finds the id of the original button that we made)\n",
    " - addEventListener(\"click\", () => {} (runs the function of what is inside the EventListener function)\n",
    " - rock.reset()<br/>paper.reset();<br/>scissors.reset(); (runs the reset function for all of the objects)"
   ]
  }
 ],
 "metadata": {
  "language_info": {
   "name": "python"
  }
 },
 "nbformat": 4,
 "nbformat_minor": 5
}
